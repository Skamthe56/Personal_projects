{
 "cells": [
  {
   "cell_type": "code",
   "execution_count": 20,
   "metadata": {},
   "outputs": [],
   "source": [
    "import cv2\n",
    "import os\n",
    "import pathlib\n",
    "import glob"
   ]
  },
  {
   "cell_type": "code",
   "execution_count": 71,
   "metadata": {},
   "outputs": [
    {
     "name": "stdout",
     "output_type": "stream",
     "text": [
      "['1-PET.PNG', '2-HDPE.png', '4-LDPE.png', '5-PP.PNG', '6-PS.PNG', '7-Others.png', '8-Nonplastic.PNG']\n",
      "7\n",
      "['1-PET', '2-HDPE', '4-LDPE', '5-PP', '6-PS', '7-Others', '8-Nonplastic']\n"
     ]
    }
   ],
   "source": [
    "templatePath = 'E:/Dissertation/Packaging_Project/template'\n",
    "template = []\n",
    "categoryName=[]\n",
    "catList=os.listdir(templatePath)\n",
    "print(catList)\n",
    "tOtalClasses= len(catList)\n",
    "print(tOtalClasses)\n",
    "#to generate proper required class name using template image name.\n",
    "for cL in catList:\n",
    "    imgCur=cv2.imread(f'{templatePath}/{cL}',0)\n",
    "    cv2.imshow(\"Image\", imgCur)\n",
    "    cv2.waitKey()\n",
    "    cv2.destroyAllWindows()\n",
    "    template.append(imgCur)\n",
    "    categoryName.append(os.path.splitext(cL)[0])\n",
    "print(categoryName)"
   ]
  },
  {
   "cell_type": "code",
   "execution_count": 77,
   "metadata": {},
   "outputs": [
    {
     "name": "stdout",
     "output_type": "stream",
     "text": [
      "7\n"
     ]
    }
   ],
   "source": [
    "#def function to load template image and find key point descriptor in the template\n",
    "orb= cv2.ORB_create(nfeatures=10000)\n",
    "sift = cv2.xfeatures2d.SIFT_create()\n",
    "def findDes(template):\n",
    "    desList=[]\n",
    "    for img in template:\n",
    "        kp,des = sift.detectAndCompute(img,None)\n",
    "        desList.append(des)\n",
    "    return desList\n",
    "\n",
    "desList= findDes(template)\n",
    "print(len(desList))\n",
    "        \n",
    "        \n",
    "    "
   ]
  },
  {
   "cell_type": "code",
   "execution_count": 78,
   "metadata": {},
   "outputs": [],
   "source": [
    "#function to find the best descriptor match\\\n",
    "def findID(img,desList):\n",
    "    kp2,des2= sift.detectAndCompute(img,None)\n",
    "    bf= cv2.BFMatcher()\n",
    "    matchList=[]\n",
    "    for des in desList:\n",
    "        matches = bf.knnMatch(des,des2,k=2)\n",
    "        good=[]\n",
    "        for m,n in matches:\n",
    "            if m.distance< 0.75*n.distance:\n",
    "                good.append([m])\n",
    "        matchList.append(len(good))\n",
    "    print(matchList)"
   ]
  },
  {
   "cell_type": "code",
   "execution_count": 79,
   "metadata": {},
   "outputs": [
    {
     "ename": "error",
     "evalue": "OpenCV(4.5.3) C:\\Users\\runneradmin\\AppData\\Local\\Temp\\pip-req-build-u4kjpz2z\\opencv\\modules\\core\\src\\alloc.cpp:73: error: (-4:Insufficient memory) Failed to allocate 1049546688 bytes in function 'cv::OutOfMemoryError'\n",
     "output_type": "error",
     "traceback": [
      "\u001b[1;31m---------------------------------------------------------------------------\u001b[0m",
      "\u001b[1;31merror\u001b[0m                                     Traceback (most recent call last)",
      "\u001b[1;32m<ipython-input-79-32cc0cb6181b>\u001b[0m in \u001b[0;36m<module>\u001b[1;34m\u001b[0m\n\u001b[0;32m      2\u001b[0m     \u001b[0mimageBase\u001b[0m \u001b[1;33m=\u001b[0m \u001b[0mcv2\u001b[0m\u001b[1;33m.\u001b[0m\u001b[0mimread\u001b[0m\u001b[1;33m(\u001b[0m\u001b[0mbaseImage\u001b[0m\u001b[1;33m)\u001b[0m\u001b[1;33m\u001b[0m\u001b[1;33m\u001b[0m\u001b[0m\n\u001b[0;32m      3\u001b[0m     \u001b[0mbaseImage_gray\u001b[0m \u001b[1;33m=\u001b[0m \u001b[0mcv2\u001b[0m\u001b[1;33m.\u001b[0m\u001b[0mcvtColor\u001b[0m\u001b[1;33m(\u001b[0m\u001b[0mimageBase\u001b[0m\u001b[1;33m,\u001b[0m \u001b[0mcv2\u001b[0m\u001b[1;33m.\u001b[0m\u001b[0mCOLOR_BGR2GRAY\u001b[0m\u001b[1;33m)\u001b[0m\u001b[1;33m\u001b[0m\u001b[1;33m\u001b[0m\u001b[0m\n\u001b[1;32m----> 4\u001b[1;33m     \u001b[0mfindID\u001b[0m\u001b[1;33m(\u001b[0m\u001b[0mbaseImage_gray\u001b[0m\u001b[1;33m,\u001b[0m\u001b[0mdesList\u001b[0m\u001b[1;33m)\u001b[0m\u001b[1;33m\u001b[0m\u001b[1;33m\u001b[0m\u001b[0m\n\u001b[0m\u001b[0;32m      5\u001b[0m \u001b[1;33m\u001b[0m\u001b[0m\n",
      "\u001b[1;32m<ipython-input-78-82667e5a8f2e>\u001b[0m in \u001b[0;36mfindID\u001b[1;34m(img, desList)\u001b[0m\n\u001b[0;32m      1\u001b[0m \u001b[1;31m#function to find the best descriptor match\\\u001b[0m\u001b[1;33m\u001b[0m\u001b[1;33m\u001b[0m\u001b[1;33m\u001b[0m\u001b[0m\n\u001b[0;32m      2\u001b[0m \u001b[1;32mdef\u001b[0m \u001b[0mfindID\u001b[0m\u001b[1;33m(\u001b[0m\u001b[0mimg\u001b[0m\u001b[1;33m,\u001b[0m\u001b[0mdesList\u001b[0m\u001b[1;33m)\u001b[0m\u001b[1;33m:\u001b[0m\u001b[1;33m\u001b[0m\u001b[1;33m\u001b[0m\u001b[0m\n\u001b[1;32m----> 3\u001b[1;33m     \u001b[0mkp2\u001b[0m\u001b[1;33m,\u001b[0m\u001b[0mdes2\u001b[0m\u001b[1;33m=\u001b[0m \u001b[0msift\u001b[0m\u001b[1;33m.\u001b[0m\u001b[0mdetectAndCompute\u001b[0m\u001b[1;33m(\u001b[0m\u001b[0mimg\u001b[0m\u001b[1;33m,\u001b[0m\u001b[1;32mNone\u001b[0m\u001b[1;33m)\u001b[0m\u001b[1;33m\u001b[0m\u001b[1;33m\u001b[0m\u001b[0m\n\u001b[0m\u001b[0;32m      4\u001b[0m     \u001b[0mbf\u001b[0m\u001b[1;33m=\u001b[0m \u001b[0mcv2\u001b[0m\u001b[1;33m.\u001b[0m\u001b[0mBFMatcher\u001b[0m\u001b[1;33m(\u001b[0m\u001b[1;33m)\u001b[0m\u001b[1;33m\u001b[0m\u001b[1;33m\u001b[0m\u001b[0m\n\u001b[0;32m      5\u001b[0m     \u001b[0mmatchList\u001b[0m\u001b[1;33m=\u001b[0m\u001b[1;33m[\u001b[0m\u001b[1;33m]\u001b[0m\u001b[1;33m\u001b[0m\u001b[1;33m\u001b[0m\u001b[0m\n",
      "\u001b[1;31merror\u001b[0m: OpenCV(4.5.3) C:\\Users\\runneradmin\\AppData\\Local\\Temp\\pip-req-build-u4kjpz2z\\opencv\\modules\\core\\src\\alloc.cpp:73: error: (-4:Insufficient memory) Failed to allocate 1049546688 bytes in function 'cv::OutOfMemoryError'\n"
     ]
    }
   ],
   "source": [
    "for baseImage in glob.glob('E:/Dissertation/Packaging_Project/Images'+\"/*.jpg\" or \"/*.png\"):\n",
    "    imageBase = cv2.imread(baseImage)\n",
    "    baseImage_gray = cv2.cvtColor(imageBase, cv2.COLOR_BGR2GRAY)\n",
    "    findID(baseImage_gray,desList)\n",
    "    "
   ]
  },
  {
   "cell_type": "code",
   "execution_count": 52,
   "metadata": {},
   "outputs": [
    {
     "name": "stdout",
     "output_type": "stream",
     "text": [
      "Original Dimensions :  6395\n",
      "Resized Dimensions :  (1918, 2977, 3)\n"
     ]
    },
    {
     "data": {
      "text/plain": [
       "True"
      ]
     },
     "execution_count": 52,
     "metadata": {},
     "output_type": "execute_result"
    }
   ],
   "source": [
    "import cv2\n",
    "import shutil, os\n",
    "img = cv2.imread(\"E:/Dissertation/Packaging_Project/Images/8001242_5031102000648_T0.jpg\")\n",
    "img.shape \n",
    "print('Original Dimensions : ',img.shape[0])\n",
    " \n",
    "scale_percent = 30 # percent of original size\n",
    "width = int(img.shape[1] * scale_percent / 100)\n",
    "height = int(img.shape[0] * scale_percent / 100)\n",
    "dim = (width, height)\n",
    "  \n",
    "# resize image\n",
    "resized = cv2.resize(img, dim, interpolation = cv2.INTER_AREA)\n",
    " \n",
    "print('Resized Dimensions : ',resized.shape)\n",
    "filename = 'resized2.jpg'\n",
    "cv2.imwrite(filename, resized) \n"
   ]
  },
  {
   "cell_type": "code",
   "execution_count": 68,
   "metadata": {},
   "outputs": [
    {
     "name": "stdout",
     "output_type": "stream",
     "text": [
      "process done\n"
     ]
    }
   ],
   "source": [
    "#Image scaling while maintaining aspect ratio intact\n",
    "import cv2\n",
    "import shutil, os\n",
    "import glob\n",
    "import pathlib\n",
    "def image_resize(original_ImgPath,dest_path):\n",
    "    for files in glob.glob(original_ImgPath):\n",
    "        img= cv2.imread(files)\n",
    "        basename=os.path.basename(files)\n",
    "        imgW=img.shape[0]\n",
    "        imgH= img.shape[1]\n",
    "        #print(imgW,\",\",imgH)\n",
    "        if imgW+imgH > 1500:\n",
    "            scale_percent = 30 # percent of original size\n",
    "            width= int(imgH * scale_percent / 100)\n",
    "            height = int(imgW * scale_percent / 100)\n",
    "            dim = (width, height)\n",
    "            resized = cv2.resize(img, dim, interpolation = cv2.INTER_AREA)\n",
    "            cv2.imwrite(os.path.join(dest_path , basename),resized)\n",
    "        else:\n",
    "            print(\"resolution less than 1500\")\n",
    "    print(\"process done\")\n",
    "            \n",
    "\n",
    "search_path='E:/Dissertation/Packaging_Project/Data/Test1/7/'+\"*.jpg\"\n",
    "dest_path='E:/Dissertation/Packaging_Project/Resized_data/test/7'\n",
    "\n",
    "image_resize(search_path,dest_path)\n",
    " "
   ]
  },
  {
   "cell_type": "code",
   "execution_count": null,
   "metadata": {},
   "outputs": [],
   "source": []
  }
 ],
 "metadata": {
  "kernelspec": {
   "display_name": "Python 3",
   "language": "python",
   "name": "python3"
  },
  "language_info": {
   "codemirror_mode": {
    "name": "ipython",
    "version": 3
   },
   "file_extension": ".py",
   "mimetype": "text/x-python",
   "name": "python",
   "nbconvert_exporter": "python",
   "pygments_lexer": "ipython3",
   "version": "3.8.5"
  }
 },
 "nbformat": 4,
 "nbformat_minor": 4
}
