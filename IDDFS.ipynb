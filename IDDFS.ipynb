{
 "cells": [
  {
   "cell_type": "code",
   "execution_count": 76,
   "metadata": {},
   "outputs": [],
   "source": [
    "# Solution for n-tile slidding puzzle using IDDFS\n",
    "\n",
    "''' For Goal_state [[3, 2, 0], [6, 1, 8], [4, 7, 5]]\n",
    "*****Puzzle: 1 ***** Time =  4.33   Depth= 18  Moves= 218529\n",
    "*****Puzzle: 2 ***** Time = 50.25   Depth= 22  Moves= 2384580\n",
    "*****Puzzle: 3 ***** Time = 138.59   Depth= 24  Moves= 7051520\n",
    "*****Puzzle: 4 ***** Time = 561.48   Depth= 26  Moves= 28784299\n",
    "*****Puzzle: 5 ***** Time = 11.16    Depth= 20  Moves= 577910\n",
    "\n",
    "\n",
    " For Goal_state [[1, 2, 3], [4, 5, 6], [7, 8, 0]]\n",
    "*****Puzzle: 6 *****  Time =    12.50  Depth= 20   Moves= 657545\n",
    "*****Puzzle: 7 *****  Time =     0.33  Depth= 14   Moves= 18824\n",
    "*****Puzzle: 8 *****  Time =   100.31  Depth= 24   Moves= 5169086\n",
    "*****Puzzle: 9 *****  Time =    32.78  Depth= 22   Moves= 1684368\n",
    "*****Puzzle: 10 ***** Time =  4802.19  Depth= 31   Moves= 244668597 '''\n",
    "\n"
   ]
  },
  {
   "cell_type": "code",
   "execution_count": null,
   "metadata": {},
   "outputs": [],
   "source": [
    "#importinn time library to capture start and end time\n",
    "import time"
   ]
  },
  {
   "cell_type": "code",
   "execution_count": 81,
   "metadata": {},
   "outputs": [],
   "source": [
    "#IDDFS class with all functions\n",
    "class IDDFS:\n",
    "    def __init__(self, rows, cols, goal):\n",
    "        self.rows = rows\n",
    "        self.cols = cols\n",
    "        self.goal = goal\n",
    "    #Defining IDDFS function\n",
    "    def id_dfs(self, start_state):\n",
    "    #for Interative increment of depth starting with depth = 0 and incrementing on every dfs function call\n",
    "    # and storing return route value from DFS in route variable list\n",
    "        depth=0\n",
    "        while True:\n",
    "            route = self.dfs([start_state], depth)\n",
    "            depth += 1\n",
    "            if route:\n",
    "                return route\n",
    "    #defining the DFS function which does the all the main work of path fining using get_moves function\n",
    "    def dfs(self, route, depth):\n",
    "            if depth == 0:\n",
    "                return\n",
    "            #checking if initial state is same as Goal state\n",
    "            if route[-1] == self.goal:\n",
    "                return route\n",
    "            #if the intial state is not similar to goal state call get moves function over last stored value in route list\n",
    "            # Also start the moves counter \n",
    "            for move in self.get_moves(route[-1]):\n",
    "                if move not in route:\n",
    "                    global movesCount \n",
    "                    movesCount+=1\n",
    "                    #recursive DFS function call\n",
    "                    next_route = self.dfs(route + [move], depth - 1)\n",
    "                    if next_route:\n",
    "                        return next_route\n",
    "    \n",
    "   \n",
    "    #defining get_moves function for all possible moves of the blank tile \n",
    "    def get_moves(self, last_route):\n",
    "        moves = []\n",
    "        global rows, cols,movesCount\n",
    "        #movesCount+=1\n",
    "        zr, zc = next((r, c)\n",
    "            for r, p in enumerate(last_route)\n",
    "                for c, t in enumerate(p) if t == 0)\n",
    "        # function to swap the tile with it neighbouring tile if below if condition is satisfied \n",
    "        # and appending those changes in moves list.\n",
    "        def swap(row, col):\n",
    "\n",
    "            import copy\n",
    "            s = copy.deepcopy(last_route)\n",
    "            s[zr][zc], s[row][col] = s[row][col], s[zr][zc]\n",
    "            #movesCount+=1\n",
    "            return s\n",
    "        # up move \n",
    "        if zr > 0:\n",
    "            moves.append(swap(zr - 1, zc))\n",
    "        # Right Move\n",
    "        if zc < self.cols - 1:\n",
    "            moves.append(swap(zr, zc + 1))\n",
    "        # Down Move\n",
    "        if zr < self.rows - 1:\n",
    "            moves.append(swap(zr + 1, zc))\n",
    "        # Left Move\n",
    "        if zc > 0:\n",
    "            moves.append(swap(zr, zc - 1))\n",
    "        return moves\n",
    "    \n",
    "       "
   ]
  },
  {
   "cell_type": "markdown",
   "metadata": {},
   "source": [
    "## Puzzle set 1"
   ]
  },
  {
   "cell_type": "code",
   "execution_count": 58,
   "metadata": {},
   "outputs": [],
   "source": [
    "#declaring all the puzzles intial state and putting it in one array to loop over while finding solution\n",
    "puzzle1=[[0, 7, 1], [4, 3, 2], [8, 6, 5]]\n",
    "puzzle2=[[5, 6, 0], [1, 3, 8], [4, 7, 2]]\n",
    "puzzle3=[[3, 5, 6], [1, 2, 7], [0, 8, 4]]\n",
    "puzzle4=[[7, 3, 5], [4, 0, 2], [8, 1, 6]]\n",
    "puzzle5=[[6, 4, 8], [7, 1, 3], [0, 2, 5]]\n",
    "goal=[[3, 2, 0],[6, 1, 8], [4, 7, 5]]\n",
    "\n",
    "\n",
    "input_Puzzles=[puzzle1,puzzle2,puzzle3,puzzle4,puzzle5]\n",
    "\n"
   ]
  },
  {
   "cell_type": "markdown",
   "metadata": {},
   "source": [
    "# Main function call for 1st input set"
   ]
  },
  {
   "cell_type": "code",
   "execution_count": 59,
   "metadata": {},
   "outputs": [
    {
     "name": "stdout",
     "output_type": "stream",
     "text": [
      "For Goal_state [[3, 2, 0], [6, 1, 8], [4, 7, 5]]\n",
      "*****Puzzle: 1 *****\n",
      "Time =  4.33 clock time =  4.32   Depth= 18   Moves= 218529\n",
      "*****Puzzle: 2 *****\n",
      "Time = 50.25 clock time = 50.55   Depth= 22   Moves= 2384580\n",
      "*****Puzzle: 3 *****\n",
      "Time = 138.59 clock time = 138.89   Depth= 24   Moves= 7051520\n",
      "*****Puzzle: 4 *****\n",
      "Time = 561.48 clock time = 562.04   Depth= 26   Moves= 28784299\n",
      "*****Puzzle: 5 *****\n",
      "Time = 11.16 clock time = 11.19   Depth= 20   Moves= 577910\n"
     ]
    }
   ],
   "source": [
    "#defining main function to call all above built functions and record start and end time \n",
    "def main():\n",
    "    global movesCount # To count the moves\n",
    "    puzzle_num=1\n",
    "    print(\"For Goal_state\",goal)\n",
    "    search = IDDFS(3,3,goal) #Inializing the IDDFS class with 3 x 3 board size,\n",
    "                        #can modify board size as per requirement to 4X4\n",
    "    \n",
    "    for puzzle in input_Puzzles:\n",
    "        movesCount=0\n",
    "        print(\"*****Puzzle:\",puzzle_num,\"*****\")\n",
    "        t=time.process_time()\n",
    "        start=time.time()\n",
    "        solution = search.id_dfs(puzzle)\n",
    "        elapsed=time.process_time()  - t\n",
    "        end=time.time()\n",
    "        clockTime=end-start\n",
    "        depth=len(solution)-1\n",
    "        print(\"Time = {:5.2f} clock time = {:5.2f}\".format(elapsed,clockTime),\"  Depth=\",depth,\"  Moves=\",movesCount)\n",
    "        puzzle_num+=1\n",
    "\n",
    "if __name__ == \"__main__\":\n",
    "    main()\n"
   ]
  },
  {
   "cell_type": "markdown",
   "metadata": {},
   "source": [
    "## Puzzle set 2"
   ]
  },
  {
   "cell_type": "code",
   "execution_count": 61,
   "metadata": {},
   "outputs": [],
   "source": [
    "#declaring second set of input puzzle and its Goal\n",
    "puzzle6=[[0, 1, 8], [3, 6, 7], [5, 4, 2]]\n",
    "puzzle7=[[6, 4, 1], [7, 3, 2], [0, 5, 8]]\n",
    "puzzle8=[[0, 7, 1], [5, 4, 8], [6, 2, 3]]\n",
    "puzzle9=[[5, 4, 0], [2, 3, 1], [8, 7, 6]]\n",
    "puzzle10=[[8, 6, 7], [2, 5, 4], [3, 0, 1]]\n",
    "goal2=[[1,2,3],[4,5,6],[7,8,0]]\n",
    "\n",
    "\n",
    "\n",
    "input_Puzzles_set2=[puzzle6,puzzle7,puzzle8,puzzle9,puzzle10]"
   ]
  },
  {
   "cell_type": "markdown",
   "metadata": {},
   "source": [
    "# Main function call for 2nd input set"
   ]
  },
  {
   "cell_type": "code",
   "execution_count": 62,
   "metadata": {},
   "outputs": [
    {
     "name": "stdout",
     "output_type": "stream",
     "text": [
      "For Goal_state [[1, 2, 3], [4, 5, 6], [7, 8, 0]]\n",
      "*****Puzzle: 6 *****\n",
      "Time =    12.50 clock time =    12.51   Depth= 20   Moves= 657545\n",
      "*****Puzzle: 7 *****\n",
      "Time =     0.33 clock time =     0.33   Depth= 14   Moves= 18824\n",
      "*****Puzzle: 8 *****\n",
      "Time =   100.31 clock time =   100.32   Depth= 24   Moves= 5169086\n",
      "*****Puzzle: 9 *****\n",
      "Time =    32.78 clock time =    32.82   Depth= 22   Moves= 1684368\n",
      "*****Puzzle: 10 *****\n",
      "Time =  4802.19 clock time =  4807.32   Depth= 31   Moves= 244668597\n"
     ]
    }
   ],
   "source": [
    "#defining main function to call all above built functions and record start and end time \n",
    "def main():\n",
    "    global movesCount\n",
    "    puzzle_num=6\n",
    "    print(\"For Goal_state\",goal2)\n",
    "    search = IDDFS(3,3,goal2) #Inializing the IDDFS class with 3 x 3 board size\n",
    "    \n",
    "    for puzzle in input_Puzzles_set2:\n",
    "        movesCount=0\n",
    "        print(\"*****Puzzle:\",puzzle_num,\"*****\")\n",
    "        t=time.process_time()\n",
    "        start=time.time()\n",
    "        solution = search.id_dfs(puzzle)\n",
    "        elapsed=time.process_time()  - t\n",
    "        end=time.time()\n",
    "        clockTime=end-start\n",
    "        depth=len(solution)-1\n",
    "        print(\"Time = {:8.2f} clock time = {:8.2f}\".format(elapsed,clockTime),\"  Depth=\",depth,\"  Moves=\",movesCount)\n",
    "        puzzle_num+=1\n",
    "\n",
    "if __name__ == \"__main__\":\n",
    "    main()"
   ]
  },
  {
   "cell_type": "markdown",
   "metadata": {},
   "source": [
    "# Testing on 4X4 puzzle"
   ]
  },
  {
   "cell_type": "code",
   "execution_count": 78,
   "metadata": {},
   "outputs": [],
   "source": [
    "goal3= [[13, 2, 10, 0],[1, 3, 8, 4],[5, 12, 9, 6],[15, 14, 11, 7]]"
   ]
  },
  {
   "cell_type": "code",
   "execution_count": 79,
   "metadata": {},
   "outputs": [],
   "source": [
    "puzzle31=[[13, 2, 10, 3],[1, 12, 8, 4],[5, 0, 9, 6],[15, 14, 11, 7]]\n",
    "puzzle32=[puzzle31]"
   ]
  },
  {
   "cell_type": "code",
   "execution_count": 82,
   "metadata": {},
   "outputs": [
    {
     "name": "stdout",
     "output_type": "stream",
     "text": [
      "For Goal_state [[13, 2, 10, 0], [1, 3, 8, 4], [5, 12, 9, 6], [15, 14, 11, 7]]\n",
      "*****Puzzle: 11 *****\n",
      "no itertools 0\n",
      "no itertools 1\n",
      "no itertools 2\n",
      "no itertools 3\n",
      "no itertools 4\n",
      "no itertools 5\n",
      "no itertools 6\n",
      "no itertools 7\n",
      "no itertools 8\n",
      "no itertools 9\n",
      "no itertools 10\n",
      "no itertools 11\n",
      "no itertools 12\n",
      "no itertools 13\n",
      "Time =     3.69 clock time =     3.67   Depth= 12   Moves= 59827\n"
     ]
    }
   ],
   "source": [
    "def main():\n",
    "    global movesCount\n",
    "    puzzle_num=11\n",
    "    print(\"For Goal_state\",goal3)\n",
    "    search = IDDFS(4,4,goal3) #Inializing the IDDFS class with 4 x 4 board size\n",
    "    \n",
    "    for puzzle in puzzle32:\n",
    "        movesCount=0\n",
    "        print(\"*****Puzzle:\",puzzle_num,\"*****\")\n",
    "        t=time.process_time()\n",
    "        start=time.time()\n",
    "        solution = search.id_dfs(puzzle)\n",
    "        elapsed=time.process_time()  - t\n",
    "        end=time.time()\n",
    "        clockTime=end-start\n",
    "        depth=len(solution)-1\n",
    "        print(\"Time = {:8.2f} clock time = {:8.2f}\".format(elapsed,clockTime),\"  Depth=\",depth,\"  Moves=\",movesCount)\n",
    "        puzzle_num+=1\n",
    "\n",
    "if __name__ == \"__main__\":\n",
    "    main()"
   ]
  }
 ],
 "metadata": {
  "kernelspec": {
   "display_name": "Python 3",
   "language": "python",
   "name": "python3"
  },
  "language_info": {
   "codemirror_mode": {
    "name": "ipython",
    "version": 3
   },
   "file_extension": ".py",
   "mimetype": "text/x-python",
   "name": "python",
   "nbconvert_exporter": "python",
   "pygments_lexer": "ipython3",
   "version": "3.8.5"
  }
 },
 "nbformat": 4,
 "nbformat_minor": 4
}
