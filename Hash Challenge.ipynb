{
 "cells": [
  {
   "cell_type": "code",
   "execution_count": 331,
   "metadata": {},
   "outputs": [],
   "source": [
    "import numpy as np\n",
    "import inspect\n",
    "import regex\n",
    "import json\n",
    "from typing import List, Callable, Union\n",
    "import math"
   ]
  },
  {
   "cell_type": "code",
   "execution_count": null,
   "metadata": {},
   "outputs": [],
   "source": []
  },
  {
   "cell_type": "code",
   "execution_count": 333,
   "metadata": {},
   "outputs": [],
   "source": [
    "ignored_characters = regex.compile(\"[^A-Za-z0-9\\,\\;]\")\n",
    "\n",
    "def compute_prediction_score(truth: List[int], solution: Callable[[int], int]) -> float:\n",
    "    prediction_score = 0\n",
    "    for i in range(len(truth)):\n",
    "        #print(\"truth of i\",truth[i], \"soluntion:\")\n",
    "        distance = np.abs(truth[i] - solution(i))\n",
    "        #print(distance)\n",
    "        prediction_score += (10-distance) if distance < 10 else 0\n",
    "    prediction_score /= len(truth)\n",
    "    return prediction_score\n",
    "\n",
    "def evaluate(truth: List[int], solution: Callable[[int], int]) -> float:\n",
    "    \"\"\" \n",
    "    Returns the loss of a solution \n",
    "    :param truth: array of ground truth hashes\n",
    "    :param solution:  solution function, which takes an index and returns the \n",
    "                      predicted hash\n",
    "\n",
    "    :return: the score as a float in the range [0,10]\n",
    "    \"\"\"\n",
    "    prediction_score = compute_prediction_score(truth, solution)\n",
    "    \n",
    "    print(\"Average prediction score: \", prediction_score)\n",
    "    \n",
    "    # remove `def function_name(x):` from the source\n",
    "    source = inspect.getsource(solution)\n",
    "    source = source[source.index(\":\")+1:]\n",
    "\n",
    "    length_score = len(source) - len(ignored_characters.findall(source))\n",
    "    print(length_score)\n",
    "    length_score -= 100\n",
    "    print(length_score)\n",
    "    length_score /= 100\n",
    "    print(length_score)\n",
    "    length_score = length_score if length_score > 1.0 else 1.0\n",
    "    \n",
    "    print(\"Length score: \", length_score)\n",
    "    \n",
    "    score = prediction_score / length_score\n",
    "    print(\"Final score: \", score)\n",
    "    return score"
   ]
  },
  {
   "cell_type": "code",
   "execution_count": 335,
   "metadata": {},
   "outputs": [
    {
     "name": "stderr",
     "output_type": "stream",
     "text": [
      "  % Total    % Received % Xferd  Average Speed   Time    Time     Time  Current\n",
      "                                 Dload  Upload   Total   Spent    Left  Speed\n",
      "\n",
      "  0     0    0     0    0     0      0      0 --:--:-- --:--:-- --:--:--     0\n",
      "100  4496  100  4496    0     0  14936      0 --:--:-- --:--:-- --:--:-- 15036\n"
     ]
    }
   ],
   "source": [
    "!curl -O https://x80-public.s3.eu-west-3.amazonaws.com/hashes.json"
   ]
  },
  {
   "cell_type": "code",
   "execution_count": 334,
   "metadata": {},
   "outputs": [],
   "source": [
    "import json\n",
    "with open(\"hashes.json\", \"r\") as f:\n",
    "  hashes = json.loads(f.read())\n",
    "hashes_easy, hashes_medium, hashes_hard, over_9000 = hashes[\"hashes_easy\"], hashes[\"hashes_medium\"], hashes[\"hashes_hard\"], hashes[\"over_9000\"]"
   ]
  },
  {
   "cell_type": "markdown",
   "metadata": {},
   "source": [
    "# Solution Easy"
   ]
  },
  {
   "cell_type": "markdown",
   "metadata": {},
   "source": [
    "# Approach\n",
    "### After viewing the hash_easy series it was clear that after every 5 index values the series was repeating with some pattern.\n",
    "### Index 0 had value of 1, followed  by  fixed difference  of 3 for index 1, 2 and 3 and  -7 for index 4 , -2 for index 5 ,  repeating this pattern over full lenght of the given array. \n",
    "### The below code recursively calculates the required output. "
   ]
  },
  {
   "cell_type": "code",
   "execution_count": 352,
   "metadata": {},
   "outputs": [
    {
     "name": "stdout",
     "output_type": "stream",
     "text": [
      "[1, 4, 7, 10, 3, 1, 4, 7, 10, 3, 1, 4, 7, 10, 3, 1, 4, 7, 10, 3, 1, 4, 7, 10, 3, 1, 4, 7, 10, 3, 1, 4, 7, 10, 3, 1, 4, 7, 10, 3, 1, 4, 7, 10, 3, 1, 4, 7, 10, 3, 1, 4, 7, 10, 3, 1, 4, 7, 10, 3, 1, 4, 7, 10, 3, 1, 4, 7, 10, 3, 1, 4, 7, 10, 3, 1, 4, 7, 10, 3, 1, 4, 7, 10, 3, 1, 4, 7, 10, 3, 1, 4, 7, 10, 3, 1, 4, 7, 10, 3, 1, 4, 7, 10, 3, 1, 4, 7, 10, 3, 1, 4, 7, 10, 3, 1, 4, 7, 10, 3, 1, 4, 7, 10, 3, 1, 4, 7]\n"
     ]
    }
   ],
   "source": [
    "def solution_easy (x):\n",
    "    \n",
    "    num= 0\n",
    "    if(x > 0):\n",
    "        if((x+1)%5==0):\n",
    "            num = -7\n",
    "        elif (x%5==0):\n",
    "            #print(x,\"x value\")\n",
    "            num = -2         \n",
    "        else:\n",
    "            #print(\"in else for x =\",x)\n",
    "            num=3\n",
    "        result= (solution_easy(x-1)+num)\n",
    "        return result \n",
    "    \n",
    "    else:\n",
    "        return 1\n",
    "# you only get the `hashes_test`\n",
    "hashes_test = [solution_easy(x) for x in range(128)]\n",
    "print(hashes_test)\n",
    "#solution(5)"
   ]
  },
  {
   "cell_type": "code",
   "execution_count": 353,
   "metadata": {},
   "outputs": [
    {
     "name": "stdout",
     "output_type": "stream",
     "text": [
      "Average prediction score:  10.0\n",
      "113\n",
      "13\n",
      "0.13\n",
      "Length score:  1.0\n",
      "Final score:  10.0\n"
     ]
    },
    {
     "data": {
      "text/plain": [
       "10.0"
      ]
     },
     "execution_count": 353,
     "metadata": {},
     "output_type": "execute_result"
    }
   ],
   "source": [
    "evaluate(hashes_easy, solution_easy)"
   ]
  },
  {
   "cell_type": "markdown",
   "metadata": {},
   "source": [
    "# Solution Medium"
   ]
  },
  {
   "cell_type": "markdown",
   "metadata": {},
   "source": [
    "# Approach\n",
    "## In this series it was found that 7 value was added to repeatedly for maximum of time with 10 value added after particular interval. Only the the addition of 7 was in specific pattern like 7 was added progresively for first 6 index position.\n",
    "### For 7th index 10 was added to value of index [2] value and later again 7 was added progresively for 5 times.\n",
    "### Addition of 7 five time and again adding 10 or the 6th time process is done for 3 repeatation and once 7 is added for 6 times followed by same 5 times 7 addition process.\n",
    "#### To handle this special case of adding 7 value 6 times after interval of 3 times ( 10 value addition) code was written with few declared variable like \n",
    "#### step : which holds the value of how many time 10 was added\n",
    "#### num: which hold the value of how many time 7 was added.\n",
    "#### flag: which hold value for logic to flip the value of step between  3 or 1 \n",
    "#### inputA : array hold the basic value of the list since they are straight forward multiple of 7 from 0 to 6, actual series pattern started from index 7 "
   ]
  },
  {
   "cell_type": "code",
   "execution_count": 355,
   "metadata": {},
   "outputs": [],
   "source": [
    "def solution_medium1(x):\n",
    "    inputA =[0,7,14,21,28,35,42,24]\n",
    "    step = 3\n",
    "    num =5\n",
    "    flag =1\n",
    "   \n",
    "    for z in range (8,x+1):\n",
    "        \n",
    "        if num>0:\n",
    "            inputA.append(inputA[z-1]+7)\n",
    "            num-=1\n",
    "        else:\n",
    "            inputA.append(inputA[z-5]+10)\n",
    "            step-=1\n",
    "            \n",
    "            if (step==0):\n",
    "                if(flag==1):\n",
    "                    num=6\n",
    "                    step=1\n",
    "                    flag= 0\n",
    "                else:\n",
    "                    num=5\n",
    "                    step=3\n",
    "                    flag=1\n",
    "            else:\n",
    "                num=5\n",
    "   \n",
    "    return inputA[x]"
   ]
  },
  {
   "cell_type": "code",
   "execution_count": 356,
   "metadata": {},
   "outputs": [
    {
     "name": "stdout",
     "output_type": "stream",
     "text": [
      "Average prediction score:  10.0\n",
      "185\n",
      "85\n",
      "0.85\n",
      "Length score:  1.0\n",
      "Final score:  10.0\n"
     ]
    },
    {
     "data": {
      "text/plain": [
       "10.0"
      ]
     },
     "execution_count": 356,
     "metadata": {},
     "output_type": "execute_result"
    }
   ],
   "source": [
    "evaluate(hashes_medium, solution_medium1)"
   ]
  },
  {
   "cell_type": "markdown",
   "metadata": {},
   "source": [
    "# Solution Hard"
   ]
  },
  {
   "cell_type": "markdown",
   "metadata": {},
   "source": [
    "# Approach\n",
    "## In this series it was observed that every 5th index had a relation with its preceding 4th index value. Also this series had a break in its pattern right in the midpoint of total given length of array at 128 index and from 129 again the same pattern was applied. In order to achieve correct output I have hard coded calculation for 128th index . Further to this if this type of pattern breaker is applied for every 128th value, and knowing the full length of the array we can remove the hard code and define a logic to calculate value accordingly. \n",
    "\n",
    "### Here I have applied one calculation logic to get the value which is added repeatedly to every 5th index in realtion to its preceding 4th index value. It was found that value is in multiple of ( 40 and/or 24) was added to generate the every 5th index value and for every succedding value next odd number was added.\n",
    "\n",
    "### For all other value a pattern of +2 to the index value was observed.\n",
    "### Used mostly mod operators to develop the logic to get desired output."
   ]
  },
  {
   "cell_type": "code",
   "execution_count": 350,
   "metadata": {},
   "outputs": [
    {
     "data": {
      "text/plain": [
       "17279"
      ]
     },
     "execution_count": 350,
     "metadata": {},
     "output_type": "execute_result"
    }
   ],
   "source": [
    "def solution_hard(r):\n",
    "    if(r==0):\n",
    "        return 127\n",
    "    if (r%4==0):\n",
    "        dD = math.floor(r/4)\n",
    "        sD= math.floor(dD/2)\n",
    "        n40= dD-sD\n",
    "        num= n40*40 + sD*24\n",
    "        if (r==128):\n",
    "            num= num -1\n",
    "            return (solution_hard(r-1)+num)\n",
    "\n",
    "        return (solution_hard(r-4)+num)\n",
    "    \n",
    "    elif ((r-1)%4==0):\n",
    "        od=0\n",
    "        for abc in range(r+1, r+3):\n",
    "            if(abc%2!=0):\n",
    "                od=abc\n",
    "                break\n",
    "        return (solution_hard(r-1)+od)\n",
    "    else :\n",
    "        return (solution_hard(r-2)+2)\n",
    "            \n",
    "solution_hard(128)     "
   ]
  },
  {
   "cell_type": "code",
   "execution_count": 351,
   "metadata": {},
   "outputs": [
    {
     "name": "stdout",
     "output_type": "stream",
     "text": [
      "Average prediction score:  10.0\n",
      "216\n",
      "116\n",
      "1.16\n",
      "Length score:  1.16\n",
      "Final score:  8.620689655172415\n"
     ]
    },
    {
     "data": {
      "text/plain": [
       "8.620689655172415"
      ]
     },
     "execution_count": 351,
     "metadata": {},
     "output_type": "execute_result"
    }
   ],
   "source": [
    "evaluate(hashes_hard, solution_hard)"
   ]
  }
 ],
 "metadata": {
  "kernelspec": {
   "display_name": "Python 3",
   "language": "python",
   "name": "python3"
  },
  "language_info": {
   "codemirror_mode": {
    "name": "ipython",
    "version": 3
   },
   "file_extension": ".py",
   "mimetype": "text/x-python",
   "name": "python",
   "nbconvert_exporter": "python",
   "pygments_lexer": "ipython3",
   "version": "3.8.5"
  }
 },
 "nbformat": 4,
 "nbformat_minor": 4
}
